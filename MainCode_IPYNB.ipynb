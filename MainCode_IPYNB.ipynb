{
 "cells": [
  {
   "cell_type": "code",
   "execution_count": null,
   "id": "089a05c1",
   "metadata": {},
   "outputs": [],
   "source": [
    "from itertools import combinations "
   ]
  },
  {
   "cell_type": "markdown",
   "id": "b37d7d2e",
   "metadata": {},
   "source": [
    "# 에라토스테네스의 체:\n",
    "\n",
    "소수를 판별하는 알고리즘이다.\n",
    "\n",
    "소수들을 대량으로 빠르고 정확하게 구하는 방법이다.\n",
    "\n",
    "단일 숫자 소수 여부 확인 어떤 수의 소수의 여부를 확인 할 때는, 특정한 숫자의 제곱근 까지만 약수의 여부를 검증하면 O(N^1/2)의 시간 복잡도로 빠르게 구할 수 있다.\n",
    "\n",
    "수가 수(N이라고 가정)를 나누면 몫이 생기는데, 몫과 나누는 수 둘 중 하나는 N 제곱근 이하이기 때문이다.\n",
    "\n",
    "만약, 대량의 소수를 한꺼번에 판별해야할 경우는 '에라토스테네스의 체'를 이용한다.\n",
    "\n",
    "에라토스테네스의 체 원리 에라토스테네스의 체는 가장 먼저 소수를 판별할 범위만큼 배열을 할당하여, 해당하는 값을 넣어주고, 이후에 하나씩 지워나가는 방법을 이용한다.\n",
    "\n",
    "배열을 생성하여 초기화한다. 2부터 시작해서 특정 수의 배수에 해당하는 수를 모두 지운다.(지울 때 자기자신은 지우지 않고, 이미 지워진 수는 건너뛴다.) 2부터 시작하여 남아있는 수를 모두 출력한다."
   ]
  },
  {
   "cell_type": "code",
   "execution_count": null,
   "id": "79273e19",
   "metadata": {},
   "outputs": [],
   "source": [
    "l=[1]*3000\n",
    "for i in range(2, 60):\n",
    "    if l[i]:\n",
    "        for j in range(i*2, 3000, i):\n",
    "            l[j]=0"
   ]
  },
  {
   "cell_type": "markdown",
   "id": "22fb9471",
   "metadata": {},
   "source": [
    "### 먼저 소수가 판별된 list를 생성한다."
   ]
  },
  {
   "cell_type": "code",
   "execution_count": null,
   "id": "f39d5a6b",
   "metadata": {},
   "outputs": [],
   "source": [
    "def solution(nums):\n",
    "    count=0\n",
    "    for i in list(combinations(nums, 3)):\n",
    "        if l[i[0]+i[1]+i[2]]:\n",
    "            count+=1 \n",
    "    return count"
   ]
  },
  {
   "cell_type": "markdown",
   "id": "00f52e2f",
   "metadata": {},
   "source": [
    "### itertools 내부의 combinations 함수로 여러 개의 튜플을 리스트로 묶어주며 for문을 돌린다\n",
    "\n",
    "### 튜플 내의 수들을 전부 더한 후에 소수를 판별한다."
   ]
  }
 ],
 "metadata": {
  "kernelspec": {
   "display_name": "Python 3 (ipykernel)",
   "language": "python",
   "name": "python3"
  },
  "language_info": {
   "codemirror_mode": {
    "name": "ipython",
    "version": 3
   },
   "file_extension": ".py",
   "mimetype": "text/x-python",
   "name": "python",
   "nbconvert_exporter": "python",
   "pygments_lexer": "ipython3",
   "version": "3.9.12"
  }
 },
 "nbformat": 4,
 "nbformat_minor": 5
}
